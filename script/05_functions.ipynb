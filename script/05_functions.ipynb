{
 "cells": [
  {
   "cell_type": "code",
   "execution_count": 2,
   "metadata": {},
   "outputs": [],
   "source": [
    "%matplotlib inline\n",
    "import matplotlib\n",
    "import pandas\n",
    "import glob"
   ]
  },
  {
   "cell_type": "markdown",
   "metadata": {},
   "source": [
    "You can save your functions (e.g. print_hello) in a text file ending in .py (e.g. utils.py) and import the function (e.g. from utils import print_hello)"
   ]
  },
  {
   "cell_type": "markdown",
   "metadata": {},
   "source": [
    "Writing an in-code comment in 3 x double quotes inludes it in the documentation for the created function"
   ]
  },
  {
   "cell_type": "code",
   "execution_count": 5,
   "metadata": {},
   "outputs": [],
   "source": [
    "def print_hello():\n",
    "    \"\"\"This function provides me a hello\"\"\"\n",
    "    print(\"hello\")"
   ]
  },
  {
   "cell_type": "code",
   "execution_count": 6,
   "metadata": {},
   "outputs": [
    {
     "name": "stdout",
     "output_type": "stream",
     "text": [
      "hello\n"
     ]
    }
   ],
   "source": [
    "print_hello()"
   ]
  },
  {
   "cell_type": "code",
   "execution_count": 19,
   "metadata": {},
   "outputs": [],
   "source": [
    "def print_date(year, month, day):\n",
    "    assert month <= 12\n",
    "    assert day <= 31 # months have a maximum of 31 days \n",
    "    print(year, month, day)"
   ]
  },
  {
   "cell_type": "code",
   "execution_count": 17,
   "metadata": {},
   "outputs": [
    {
     "name": "stdout",
     "output_type": "stream",
     "text": [
      "2000 11 25\n"
     ]
    }
   ],
   "source": [
    "print_date(2000, 11, 25)"
   ]
  },
  {
   "cell_type": "markdown",
   "metadata": {},
   "source": [
    "TIP: it is good pratice not to use spaces before or after an equal (=) sign"
   ]
  },
  {
   "cell_type": "code",
   "execution_count": 18,
   "metadata": {},
   "outputs": [
    {
     "name": "stdout",
     "output_type": "stream",
     "text": [
      "1970 11 25\n"
     ]
    }
   ],
   "source": [
    "print_date(month=11, year=1970, day=25)"
   ]
  },
  {
   "cell_type": "code",
   "execution_count": 35,
   "metadata": {},
   "outputs": [],
   "source": [
    "def return_combined_date(year, month, day):\n",
    "    \"\"\"Returns a date string in ISO8601 (yyy-mm-dd) format\n",
    "    \n",
    "    https://nl.wikipedia.org/wiki/ISO_8601\n",
    "    \n",
    "    Parameters\n",
    "    ----------\n",
    "    year: int\n",
    "        the year of interest\n",
    "    month: int\n",
    "        the month of interest (! between 1 and 12)\n",
    "    day: int\n",
    "        the day of interest (! between 1 and 31)\n",
    "    \"\"\"\n",
    "    assert month <= 12\n",
    "    assert month >0\n",
    "    assert day <= 31\n",
    "    assert day >0\n",
    "    return str(year) + '-' + str(month)  + '-' + str(day)"
   ]
  },
  {
   "cell_type": "code",
   "execution_count": 36,
   "metadata": {},
   "outputs": [
    {
     "data": {
      "text/plain": [
       "'2018-10-24'"
      ]
     },
     "execution_count": 36,
     "metadata": {},
     "output_type": "execute_result"
    }
   ],
   "source": [
    "return_combined_date(2018, 10, 24)"
   ]
  },
  {
   "cell_type": "code",
   "execution_count": 57,
   "metadata": {},
   "outputs": [],
   "source": [
    "def min_in_data(filename, column_name='gdpPercap_1977'):\n",
    "    \"\"\"Provide country and value with minimal value\n",
    "    \n",
    "    Parameters\n",
    "    ----------\n",
    "    \n",
    "    \n",
    "    \"\"\"\n",
    "    data = pandas.read_csv(filename, index_col=\"country\")\n",
    "    min_data = data[column_name].min()\n",
    "    min_country = data[column_name].idxmin()\n",
    "    return min_data, min_country"
   ]
  },
  {
   "cell_type": "code",
   "execution_count": 58,
   "metadata": {},
   "outputs": [
    {
     "data": {
      "text/plain": [
       "(357.0, 'Myanmar')"
      ]
     },
     "execution_count": 58,
     "metadata": {},
     "output_type": "execute_result"
    }
   ],
   "source": [
    "min_in_data(filename='../data/gapminder_all.csv', column_name=\"gdpPercap_1972\")"
   ]
  },
  {
   "cell_type": "code",
   "execution_count": 59,
   "metadata": {},
   "outputs": [
    {
     "data": {
      "text/plain": [
       "(371.0, 'Myanmar')"
      ]
     },
     "execution_count": 59,
     "metadata": {},
     "output_type": "execute_result"
    }
   ],
   "source": [
    "min_in_data(filename='../data/gapminder_all.csv')"
   ]
  },
  {
   "cell_type": "markdown",
   "metadata": {},
   "source": [
    "Store two outputs at the same time in two different objects"
   ]
  },
  {
   "cell_type": "code",
   "execution_count": 60,
   "metadata": {},
   "outputs": [],
   "source": [
    "value, country = min_in_data(\"../data/gapminder_gdp_europe.csv\", \"gdpPercap_1972\")"
   ]
  },
  {
   "cell_type": "code",
   "execution_count": 61,
   "metadata": {},
   "outputs": [
    {
     "data": {
      "text/plain": [
       "2860.16975"
      ]
     },
     "execution_count": 61,
     "metadata": {},
     "output_type": "execute_result"
    }
   ],
   "source": [
    "value"
   ]
  },
  {
   "cell_type": "code",
   "execution_count": 62,
   "metadata": {},
   "outputs": [
    {
     "data": {
      "text/plain": [
       "'Bosnia and Herzegovina'"
      ]
     },
     "execution_count": 62,
     "metadata": {},
     "output_type": "execute_result"
    }
   ],
   "source": [
    "country"
   ]
  },
  {
   "cell_type": "code",
   "execution_count": null,
   "metadata": {},
   "outputs": [],
   "source": []
  }
 ],
 "metadata": {
  "kernelspec": {
   "display_name": "Python 3",
   "language": "python",
   "name": "python3"
  },
  "language_info": {
   "codemirror_mode": {
    "name": "ipython",
    "version": 3
   },
   "file_extension": ".py",
   "mimetype": "text/x-python",
   "name": "python",
   "nbconvert_exporter": "python",
   "pygments_lexer": "ipython3",
   "version": "3.7.0"
  }
 },
 "nbformat": 4,
 "nbformat_minor": 2
}
